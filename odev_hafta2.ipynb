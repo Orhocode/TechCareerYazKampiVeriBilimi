{
 "cells": [
  {
   "cell_type": "code",
   "execution_count": null,
   "id": "e518dd38-94a4-4b29-a9a8-c36956957c1d",
   "metadata": {},
   "outputs": [],
   "source": [
    "# Soru 1 - Sayı Analizi\n",
    "sayi=int (input(\"Bir Sayi Giriniz: \"))\n",
    "if sayi < 0:\n",
    "    durum=\"Negatif\"\n",
    "elif sayi > 0:\n",
    "    durum = \"Pozitif\"\n",
    "else:\n",
    "    durum = \"Sıfır\"\n",
    "tekcift = \"Çift\" if sayi % 2 == 0 else \"Tek\"\n",
    "print(f\"{durum} {tekcift}\")"
   ]
  },
  {
   "cell_type": "code",
   "execution_count": null,
   "id": "b999ff99-9f35-454a-80f8-b9f1ff0cb172",
   "metadata": {},
   "outputs": [],
   "source": [
    "# Soru 2 - Harf Frekansı\n",
    "kelime = input(\"Bir kelime giriniz: \")\n",
    "frekans = {}\n",
    "for harf in kelime:\n",
    "    frekans[harf] = frekans.get(harf, 0) + 1\n",
    "print(frekans)"
   ]
  },
  {
   "cell_type": "code",
   "execution_count": null,
   "id": "db1ad297-4376-490d-a33d-5ccd850a6ff2",
   "metadata": {},
   "outputs": [],
   "source": [
    "# Soru 3 - Şifre Kontrolü\n",
    "sifre = input(\"Bir şifre giriniz: \")\n",
    "if len(sifre) < 8:\n",
    "    print(\"Şifre en az 8 karakterden oluşmalı\")\n",
    "elif not any(harf.isupper() for harf in sifre):\n",
    "    print(\"Şifre en az bir büyük harf içermeli.\")\n",
    "elif not any(harf.isdigit() for harf in sifre):\n",
    "    print(\"Şifre en az bir rakam içermeli.\")\n",
    "else:\n",
    "    print(\"Şifre geçerli!\")\n"
   ]
  },
  {
   "cell_type": "code",
   "execution_count": null,
   "id": "9652b912-3523-4845-9f45-1daa0b22ebf8",
   "metadata": {},
   "outputs": [],
   "source": [
    "# Soru 4 - Liste İşlemleri\n",
    "list = [12, 4, 9, 25, 30, 7, 18]\n",
    "ort = sum(list) / len(list)\n",
    "buyuk = [s for s in list if s > ort]\n",
    "print(\"Ortalama: \",ort)\n",
    "print(\"Ortalamadan büyük olanlar: \",buyuk)"
   ]
  },
  {
   "cell_type": "code",
   "execution_count": null,
   "id": "581ffd98-552a-4f67-b588-24e2a9134a44",
   "metadata": {},
   "outputs": [],
   "source": [
    "# Soru 5 - Nested Loop (Desen)\n",
    "def desen():\n",
    "    for x in range(6):\n",
    "        for y in range(x):\n",
    "            print(\"*\", end=\"\")\n",
    "        print()\n",
    "desen()"
   ]
  },
  {
   "cell_type": "code",
   "execution_count": null,
   "id": "00fdfd42-b678-44fb-b95f-a971443fea48",
   "metadata": {},
   "outputs": [],
   "source": [
    "# Soru 6 - While Döngüsü\n",
    "toplam = 0\n",
    "adet = 0\n",
    "while True:\n",
    "    sayi = int(input(\"Sayı giriniz (0 çıkış): \"))\n",
    "    if sayi == 0:\n",
    "        break\n",
    "    toplam += sayi\n",
    "    adet += 1\n",
    "if adet > 0:\n",
    "    print(\"Toplam:\", toplam)\n",
    "    print(\"Ortalama:\", toplam/adet)\n",
    "else:\n",
    "    print(\"Hiç sayı girilmedi.\")\n",
    "     "
   ]
  },
  {
   "cell_type": "code",
   "execution_count": null,
   "id": "8c1528fc-55a1-4605-9427-998ac6ef28d1",
   "metadata": {},
   "outputs": [],
   "source": [
    "# Soru 7 - Palindrom Kontrolü\n",
    "kelime = input(\"Bir kelime giriniz: \")\n",
    "if kelime == kelime[::-1]:\n",
    "    print(\"Palindromdur\")\n",
    "else:\n",
    "    print(\"Palindrom Değil\")"
   ]
  },
  {
   "cell_type": "code",
   "execution_count": null,
   "id": "e799485b-bfeb-4645-b4ff-ca26b77925bf",
   "metadata": {},
   "outputs": [],
   "source": [
    "# Soru 8 - List Comprehension\n",
    "liste = [x**2 for x in range(1,101) if x%3==0 and x%5==0]\n",
    "print(liste)"
   ]
  },
  {
   "cell_type": "code",
   "execution_count": null,
   "id": "7c9e5e8f-3b0c-444f-8166-7862b16da6d9",
   "metadata": {},
   "outputs": [],
   "source": [
    "# Soru 9 - String İşlemleri\n",
    "cumle = input(\"Bir cümle giriniz: \")\n",
    "kelimeler = cumle.split()\n",
    "yeni = ' '.join([kelime.capitalize() for kelime in kelimeler])\n",
    "print(yeni)"
   ]
  },
  {
   "cell_type": "code",
   "execution_count": 19,
   "id": "88362909-17ca-4ec5-b150-56295fe55110",
   "metadata": {},
   "outputs": [
    {
     "name": "stdin",
     "output_type": "stream",
     "text": [
      "Kaç yorum gireceksiniz?  2\n",
      "1. yorumu girin:  Film çok iyiydi\n",
      "2. yorumu girin:  Fena değil\n"
     ]
    },
    {
     "name": "stdout",
     "output_type": "stream",
     "text": [
      "\n",
      "--- Sonuçlar ---\n",
      "Toplam yorum sayısı: 2\n",
      "\"iyi\" geçen yorum sayısı: 1\n",
      "En uzun yorum: Film çok iyiydi\n",
      "En kısa yorum: Fena değil\n",
      "Ortalama uzunluk: 12.5\n"
     ]
    }
   ],
   "source": [
    "# Mini Proje - Film Yorumu Analizi\n",
    "yorumlar = []\n",
    "\n",
    "adet_str = input(\"Kaç yorum gireceksiniz? \")\n",
    "\n",
    "# Eğer boş bırakılırsa veya sayı değilse\n",
    "if not adet_str.isdigit():\n",
    "    print(\"Lütfen geçerli bir sayı girin!\")\n",
    "else:\n",
    "    adet = int(adet_str)\n",
    "\n",
    "    for i in range(adet):\n",
    "        yorum = input(f\"{i+1}. yorumu girin: \")\n",
    "        yorumlar.append(yorum)\n",
    "\n",
    "    if yorumlar:  # Liste boş değilse\n",
    "        uzunluklar = [len(y) for y in yorumlar]\n",
    "        iyi_sayisi = sum(1 for y in yorumlar if \"iyi\" in y.lower())\n",
    "        en_uzun = max(yorumlar, key=len)\n",
    "        en_kisa = min(yorumlar, key=len)\n",
    "        ortalama = sum(uzunluklar) / len(uzunluklar)\n",
    "\n",
    "        print(\"\\n--- Sonuçlar ---\")\n",
    "        print(\"Toplam yorum sayısı:\", len(yorumlar))\n",
    "        print('\"iyi\" geçen yorum sayısı:', iyi_sayisi)\n",
    "        print(\"En uzun yorum:\", en_uzun)\n",
    "        print(\"En kısa yorum:\", en_kisa)\n",
    "        print(\"Ortalama uzunluk:\", round(ortalama, 2))\n",
    "    else:\n",
    "        print(\"Hiç yorum girilmedi!\")\n"
   ]
  },
  {
   "cell_type": "code",
   "execution_count": null,
   "id": "c91e0747-8375-4e82-8265-f6f0022b1823",
   "metadata": {},
   "outputs": [],
   "source": []
  }
 ],
 "metadata": {
  "kernelspec": {
   "display_name": "Python 3 (ipykernel)",
   "language": "python",
   "name": "python3"
  },
  "language_info": {
   "codemirror_mode": {
    "name": "ipython",
    "version": 3
   },
   "file_extension": ".py",
   "mimetype": "text/x-python",
   "name": "python",
   "nbconvert_exporter": "python",
   "pygments_lexer": "ipython3",
   "version": "3.13.5"
  }
 },
 "nbformat": 4,
 "nbformat_minor": 5
}
