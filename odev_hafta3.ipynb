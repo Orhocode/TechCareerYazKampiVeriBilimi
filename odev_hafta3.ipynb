{
 "cells": [
  {
   "cell_type": "code",
   "execution_count": 1,
   "id": "47c055ad-a8db-4c07-bf4d-6ca0bc3ef8ac",
   "metadata": {},
   "outputs": [
    {
     "name": "stdout",
     "output_type": "stream",
     "text": [
      "Benzersiz: [100, 92, 85, 76]\n",
      "En yüksek: 100\n",
      "En düşük: 76\n",
      "Sıralı: [76, 85, 92, 100]\n"
     ]
    }
   ],
   "source": [
    "# Soru 1 – Liste Metotları\n",
    "\n",
    "notlar = [85, 92, 76, 92, 100, 76, 85, 92]\n",
    "\n",
    "# Benzersiz liste\n",
    "benzersiz = list(set(notlar))\n",
    "print(\"Benzersiz:\", benzersiz)\n",
    "\n",
    "# En yüksek ve en düşük not\n",
    "print(\"En yüksek:\", max(notlar))\n",
    "print(\"En düşük:\", min(notlar))\n",
    "\n",
    "# Küçükten büyüğe sıralama\n",
    "sirali = sorted(benzersiz)\n",
    "print(\"Sıralı:\", sirali)\n"
   ]
  },
  {
   "cell_type": "code",
   "execution_count": 2,
   "id": "5dc43b23-cea3-49a2-b565-e3be59a9190a",
   "metadata": {},
   "outputs": [
    {
     "name": "stdout",
     "output_type": "stream",
     "text": [
      "153 Armstrong mu? True\n",
      "123 Armstrong mu? False\n"
     ]
    }
   ],
   "source": [
    "# Soru 2 – Sayılar\n",
    "\n",
    "def armstrong_mu(sayi):\n",
    "    return sum(int(h)**3 for h in str(sayi)) == sayi\n",
    "\n",
    "print(153, \"Armstrong mu?\", armstrong_mu(153))\n",
    "print(123, \"Armstrong mu?\", armstrong_mu(123))\n"
   ]
  },
  {
   "cell_type": "code",
   "execution_count": 3,
   "id": "6d1e67b9-cd96-4091-b995-28c06bf4d25f",
   "metadata": {},
   "outputs": [
    {
     "name": "stdout",
     "output_type": "stream",
     "text": [
      "Ortak: {'Python', 'SQL'}\n",
      "Sadece A’da: {'Java', 'R'}\n",
      "Birleşim: ['C++', 'Java', 'JavaScript', 'Python', 'R', 'SQL']\n"
     ]
    }
   ],
   "source": [
    "# Soru 3 – Kümeler\n",
    "\n",
    "A = {\"Python\", \"R\", \"SQL\", \"Java\"}\n",
    "B = {\"C++\", \"Python\", \"JavaScript\", \"SQL\"}\n",
    "\n",
    "print(\"Ortak:\", A & B)\n",
    "print(\"Sadece A’da:\", A - B)\n",
    "print(\"Birleşim:\", sorted(A | B))\n"
   ]
  },
  {
   "cell_type": "code",
   "execution_count": 4,
   "id": "18aa9b3a-978c-40af-bcd4-d0a226b9e3dd",
   "metadata": {},
   "outputs": [
    {
     "name": "stdout",
     "output_type": "stream",
     "text": [
      "Sayılar: [17, 9, 33, 45, 67, 94, 77, 58, 36, 13]\n",
      "Ortalama: 44.9\n",
      "Std sapma: 27.21562051469707\n"
     ]
    }
   ],
   "source": [
    "# Soru 4 – Modüller\n",
    "\n",
    "import random, statistics\n",
    "\n",
    "sayilar = [random.randint(1, 100) for _ in range(10)]\n",
    "print(\"Sayılar:\", sayilar)\n",
    "print(\"Ortalama:\", statistics.mean(sayilar))\n",
    "print(\"Std sapma:\", statistics.pstdev(sayilar))\n"
   ]
  },
  {
   "cell_type": "code",
   "execution_count": 5,
   "id": "08153618-9826-4353-a245-056c0677e741",
   "metadata": {},
   "outputs": [
    {
     "name": "stdout",
     "output_type": "stream",
     "text": [
      "(6, 'analiz', 'veri')\n"
     ]
    }
   ],
   "source": [
    "# Soru 5 – Fonksiyonlar\n",
    "\n",
    "from collections import Counter\n",
    "\n",
    "def kelime_sayaci(metin):\n",
    "    kelimeler = metin.split()\n",
    "    toplam = len(kelimeler)\n",
    "    en_uzun = max(kelimeler, key=len)\n",
    "    en_sik = Counter(kelimeler).most_common(1)[0][0]\n",
    "    return toplam, en_uzun, en_sik\n",
    "\n",
    "print(kelime_sayaci(\"veri bilim veri analiz python veri\"))\n"
   ]
  },
  {
   "cell_type": "code",
   "execution_count": 6,
   "id": "aeb44383-fc5e-43f0-b9e9-59839ad77f5d",
   "metadata": {},
   "outputs": [
    {
     "name": "stdout",
     "output_type": "stream",
     "text": [
      "Çiftler: [12, 18, 24, 16]\n",
      "Kareler: [144, 324, 576, 256]\n",
      "Azalan kareler: [576, 324, 256, 144]\n"
     ]
    }
   ],
   "source": [
    "# Soru 6 – Gömülü Fonksiyonlar\n",
    "\n",
    "\n",
    "sayilar = [5, 12, 7, 18, 24, 3, 16]\n",
    "\n",
    "ciftler = list(filter(lambda x: x % 2 == 0, sayilar))\n",
    "kareler = list(map(lambda x: x**2, ciftler))\n",
    "sirali = sorted(kareler, reverse=True)\n",
    "\n",
    "print(\"Çiftler:\", ciftler)\n",
    "print(\"Kareler:\", kareler)\n",
    "print(\"Azalan kareler:\", sirali)\n"
   ]
  },
  {
   "cell_type": "code",
   "execution_count": 7,
   "id": "5e50eab6-1011-4207-bfc1-146d365cc02b",
   "metadata": {},
   "outputs": [
    {
     "name": "stdout",
     "output_type": "stream",
     "text": [
      "Sıralı: ['veri', 'bilim', 'analiz', 'python', 'yapayzeka']\n"
     ]
    }
   ],
   "source": [
    "# Soru 7 – Lambda İfadeleri\n",
    "\n",
    "\n",
    "kelimeler = [\"veri\", \"bilim\", \"analiz\", \"yapayzeka\", \"python\"]\n",
    "\n",
    "sirali = sorted(kelimeler, key=lambda x: len(x))\n",
    "print(\"Sıralı:\", sirali)\n"
   ]
  },
  {
   "cell_type": "code",
   "execution_count": 8,
   "id": "7135f987-2c15-4729-ba4d-76201a7e4554",
   "metadata": {},
   "outputs": [
    {
     "name": "stdout",
     "output_type": "stream",
     "text": [
      "6\n"
     ]
    }
   ],
   "source": [
    "# Soru 8 – Metodlar\n",
    "\n",
    "\n",
    "def rakam_toplam(metin):\n",
    "    sayilar = [int(ch) for ch in metin if ch.isdigit()]\n",
    "    return sum(sayilar)\n",
    "\n",
    "print(rakam_toplam(\"abc12def3\"))  # 1+2+3=6\n"
   ]
  },
  {
   "cell_type": "code",
   "execution_count": 10,
   "id": "1dd86940-5dd4-47b3-a186-ad09650307c9",
   "metadata": {},
   "outputs": [
    {
     "name": "stdout",
     "output_type": "stream",
     "text": [
      "Dizi: [44  9 40 14 37 45 14  1 14 48]\n",
      "Ortalama: 26.6\n",
      "Std sapma: 16.817847662528045\n",
      "Max: 48\n"
     ]
    }
   ],
   "source": [
    "# Soru 9 – (Ekstra) Numpy 1 \n",
    "\n",
    "import numpy as np\n",
    "\n",
    "dizi = np.random.randint(0, 51, 10)\n",
    "print(\"Dizi:\", dizi)\n",
    "print(\"Ortalama:\", np.mean(dizi))\n",
    "print(\"Std sapma:\", np.std(dizi))\n",
    "print(\"Max:\", np.max(dizi))\n"
   ]
  },
  {
   "cell_type": "code",
   "execution_count": 11,
   "id": "3247a07a-307f-443c-b12f-88e268dc27f3",
   "metadata": {},
   "outputs": [
    {
     "name": "stdout",
     "output_type": "stream",
     "text": [
      "Matris:\n",
      " [[0.99764812 0.93176183 0.7361935  0.02667344 0.97741194]\n",
      " [0.9846107  0.38237316 0.50919886 0.6288472  0.52293245]\n",
      " [0.92123327 0.79691627 0.2211711  0.47258019 0.31830151]\n",
      " [0.40828652 0.44599455 0.91330343 0.40312963 0.02618051]\n",
      " [0.15942353 0.52744257 0.52484786 0.78397826 0.50078939]]\n",
      "Sütun ortalamaları: [0.69424043 0.61689768 0.58094295 0.46304174 0.46912316]\n",
      "Binary matris:\n",
      " [[1 1 1 0 1]\n",
      " [1 0 1 1 1]\n",
      " [1 1 0 0 0]\n",
      " [0 0 1 0 0]\n",
      " [0 1 1 1 1]]\n"
     ]
    }
   ],
   "source": [
    "# Soru 10 – (Ekstra) Numpy 2\n",
    "\n",
    "matris = np.random.rand(5, 5)\n",
    "print(\"Matris:\\n\", matris)\n",
    "\n",
    "print(\"Sütun ortalamaları:\", matris.mean(axis=0))\n",
    "\n",
    "binary = (matris > 0.5).astype(int)\n",
    "print(\"Binary matris:\\n\", binary)\n"
   ]
  },
  {
   "cell_type": "code",
   "execution_count": null,
   "id": "05378125-c5e8-46be-bfb2-b9c840b16d29",
   "metadata": {},
   "outputs": [],
   "source": []
  }
 ],
 "metadata": {
  "kernelspec": {
   "display_name": "Python 3 (ipykernel)",
   "language": "python",
   "name": "python3"
  },
  "language_info": {
   "codemirror_mode": {
    "name": "ipython",
    "version": 3
   },
   "file_extension": ".py",
   "mimetype": "text/x-python",
   "name": "python",
   "nbconvert_exporter": "python",
   "pygments_lexer": "ipython3",
   "version": "3.13.5"
  }
 },
 "nbformat": 4,
 "nbformat_minor": 5
}
